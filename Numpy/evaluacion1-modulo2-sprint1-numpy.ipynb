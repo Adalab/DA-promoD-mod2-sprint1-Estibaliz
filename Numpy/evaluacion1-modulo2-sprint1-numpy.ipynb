{
 "cells": [
  {
   "attachments": {},
   "cell_type": "markdown",
   "metadata": {},
   "source": [
    "# Evaluación de contenidos 1 Módulo 2\n",
    "\n",
    "# Ejercicios de NumPy"
   ]
  },
  {
   "attachments": {},
   "cell_type": "markdown",
   "metadata": {},
   "source": [
    "1. Importa la librería de NumPy."
   ]
  },
  {
   "cell_type": "code",
   "execution_count": 3,
   "metadata": {},
   "outputs": [],
   "source": [
    "import pandas as pd\n",
    "import numpy as np\n",
    "import os"
   ]
  },
  {
   "attachments": {},
   "cell_type": "markdown",
   "metadata": {},
   "source": [
    "\n",
    "2. Crea un array de 1 dimension y 10 elementos."
   ]
  },
  {
   "cell_type": "code",
   "execution_count": 4,
   "metadata": {},
   "outputs": [
    {
     "data": {
      "text/plain": [
       "array([ 7,  0, 32, 37,  3, 10,  7,  8,  7,  9])"
      ]
     },
     "execution_count": 4,
     "metadata": {},
     "output_type": "execute_result"
    }
   ],
   "source": [
    "array_int = np.random.randint(50, size=10)\n",
    "\n",
    "array_int"
   ]
  },
  {
   "attachments": {},
   "cell_type": "markdown",
   "metadata": {},
   "source": [
    "3. Reemplaza todos los números impares por el valor \"impar\" y los pares por \"par\". Para hacer esto os tendréis que crear un array nuevo donde vayáis añadiendo los valores nuevos."
   ]
  },
  {
   "cell_type": "code",
   "execution_count": 5,
   "metadata": {},
   "outputs": [
    {
     "name": "stdout",
     "output_type": "stream",
     "text": [
      "['impar' 'par' 'par' 'impar' 'impar' 'par' 'impar' 'par' 'impar' 'impar']\n"
     ]
    }
   ],
   "source": [
    "'''Si en dtype ponemos =str solo saca la primera letra de 'par' o 'impar' '''\n",
    "array_vacio = np.empty(10, dtype=object)\n",
    "\n",
    "for i in range(10):\n",
    "    \n",
    "    if array_int[i] % 2 == 0:\n",
    "        array_vacio[i] = 'par'\n",
    "    else:\n",
    "        array_vacio[i] = 'impar'\n",
    "\n",
    "print(array_vacio)"
   ]
  },
  {
   "attachments": {},
   "cell_type": "markdown",
   "metadata": {},
   "source": [
    "4. Cambiad la forma del array del ejercicio 3 a un array de 2 filas y 5 columnas."
   ]
  },
  {
   "cell_type": "code",
   "execution_count": 6,
   "metadata": {},
   "outputs": [
    {
     "data": {
      "text/plain": [
       "array([[ 7,  0, 32, 37,  3],\n",
       "       [10,  7,  8,  7,  9]])"
      ]
     },
     "execution_count": 6,
     "metadata": {},
     "output_type": "execute_result"
    }
   ],
   "source": [
    "'''con el método reshape simplemente especificamos entre paréntesis la forma que queremos'''\n",
    "\n",
    "array_cambiado = np.reshape(array_int, (2, 5))\n",
    "\n",
    "array_cambiado"
   ]
  },
  {
   "attachments": {},
   "cell_type": "markdown",
   "metadata": {},
   "source": [
    "5. Extrae los elementos comunes de los siguientes arrays\n",
    "\n",
    "array1 = np.array([1,2,3,2,3,4,3,4,5,6])\n",
    "\n",
    "array2 = np.array([7,2,10,2,7,4,9,4,9,8])"
   ]
  },
  {
   "cell_type": "code",
   "execution_count": 7,
   "metadata": {},
   "outputs": [],
   "source": [
    "array1 = np.array([1,2,3,2,3,4,3,4,5,6])\n",
    "\n",
    "array2 = np.array([7,2,10,2,7,4,9,4,9,8])"
   ]
  },
  {
   "cell_type": "code",
   "execution_count": 8,
   "metadata": {},
   "outputs": [
    {
     "data": {
      "text/plain": [
       "array([2, 4])"
      ]
     },
     "execution_count": 8,
     "metadata": {},
     "output_type": "execute_result"
    }
   ],
   "source": [
    "''' elementos comunes entre los dos arrays y ordenados'''\n",
    "\n",
    "array_comunes = np.intersect1d(array1, array2)\n",
    "\n",
    "array_comunes"
   ]
  },
  {
   "attachments": {},
   "cell_type": "markdown",
   "metadata": {},
   "source": [
    "6. Extraed los elementos que están en el array1 pero no en el array2."
   ]
  },
  {
   "cell_type": "code",
   "execution_count": 9,
   "metadata": {},
   "outputs": [
    {
     "data": {
      "text/plain": [
       "array([1, 3, 5, 6])"
      ]
     },
     "execution_count": 9,
     "metadata": {},
     "output_type": "execute_result"
    }
   ],
   "source": [
    "''' elementos que están en A pero no B. Devuelve valores únicos, no como np.in1d()'''\n",
    "array_diferentes = np.setdiff1d(array1, array2)\n",
    "\n",
    "array_diferentes"
   ]
  },
  {
   "attachments": {},
   "cell_type": "markdown",
   "metadata": {},
   "source": [
    "\n",
    "7. Extraed las posiciones donde tengamos elementos que sean iguales."
   ]
  },
  {
   "cell_type": "code",
   "execution_count": 10,
   "metadata": {},
   "outputs": [
    {
     "data": {
      "text/plain": [
       "(array([2, 4]), array([1, 5]), array([1, 5]))"
      ]
     },
     "execution_count": 10,
     "metadata": {},
     "output_type": "execute_result"
    }
   ],
   "source": [
    "''' Primero lo hice así pero no me da todos los elementos y me lío interpretando los índices'''\n",
    "\n",
    "array_posicion = np.intersect1d(array1, array2, return_indices= True)\n",
    "\n",
    "array_posicion"
   ]
  },
  {
   "cell_type": "code",
   "execution_count": 17,
   "metadata": {},
   "outputs": [
    {
     "data": {
      "text/plain": [
       "(array([1, 3, 5, 7]),)"
      ]
     },
     "execution_count": 17,
     "metadata": {},
     "output_type": "execute_result"
    }
   ],
   "source": [
    "'''La solución correcta es con np.where, que devuelve los indices donde se cumple la condición'''\n",
    "\n",
    "posiciones = np.where(array1 == array2)\n",
    "\n",
    "posiciones\n"
   ]
  },
  {
   "attachments": {},
   "cell_type": "markdown",
   "metadata": {},
   "source": [
    "8. Cread un array de 3 filas y 5 columnas, con números enteros del 0 al 50. Una vez creado, extrae los valores que sean menores que 10 y mayores que 40."
   ]
  },
  {
   "cell_type": "code",
   "execution_count": 12,
   "metadata": {},
   "outputs": [
    {
     "data": {
      "text/plain": [
       "array([[21, 31, 27, 46, 17],\n",
       "       [31,  8, 37, 11, 14],\n",
       "       [50, 49, 45,  6, 34]])"
      ]
     },
     "execution_count": 12,
     "metadata": {},
     "output_type": "execute_result"
    }
   ],
   "source": [
    "array_entero = np.random.randint(0, 51, (3,5))\n",
    "\n",
    "array_entero"
   ]
  },
  {
   "cell_type": "code",
   "execution_count": 20,
   "metadata": {},
   "outputs": [
    {
     "name": "stdout",
     "output_type": "stream",
     "text": [
      "Los valores menores de 10 son [8 6]\n",
      "Los valores mayores de 40 son [46 50 49 45]\n"
     ]
    }
   ],
   "source": [
    "'''Podemos usar los corchetes para que devuelva los valores donde se cumpla la condición. También con paréntesis y \"|\" '''\n",
    "\n",
    "pequeños = array_entero[array_entero < 10]\n",
    "grandes = array_entero[array_entero > 40]\n",
    "\n",
    "print(f'Los valores menores de 10 son {pequeños}')\n",
    "\n",
    "print(f'Los valores mayores de 40 son {grandes}')"
   ]
  },
  {
   "attachments": {},
   "cell_type": "markdown",
   "metadata": {},
   "source": [
    "9. Cread un array de 5x3 con números decimales aleatorios entre el 5 y el 10."
   ]
  },
  {
   "cell_type": "code",
   "execution_count": 14,
   "metadata": {},
   "outputs": [
    {
     "data": {
      "text/plain": [
       "array([[8.45742479, 6.71224406, 7.69467485],\n",
       "       [6.21665655, 8.41891232, 5.0589105 ],\n",
       "       [9.52679703, 8.42232458, 9.33805833],\n",
       "       [8.76012796, 7.93094149, 7.12196427],\n",
       "       [5.75901194, 6.39359983, 8.68566865]])"
      ]
     },
     "execution_count": 14,
     "metadata": {},
     "output_type": "execute_result"
    }
   ],
   "source": [
    "'''Random uniform genera muestras aleatorias de distribución uniforme con el intervalo que le pasemos'''\n",
    "\n",
    "array_float = np.random.uniform(size =(5, 3,), low= 5, high = 10)\n",
    "\n",
    "array_float"
   ]
  },
  {
   "cell_type": "markdown",
   "metadata": {},
   "source": [
    "10. Crea un array de tres dimensiones de 2x4x7 con números entre el 1 y el 20"
   ]
  },
  {
   "cell_type": "code",
   "execution_count": 22,
   "metadata": {},
   "outputs": [
    {
     "data": {
      "text/plain": [
       "array([[[18,  6,  7, 20, 14, 19,  6],\n",
       "        [ 1, 19, 10,  8, 18, 14, 19],\n",
       "        [14, 20,  1, 13,  7, 11,  9],\n",
       "        [ 5, 16, 12, 15, 18, 15, 17]],\n",
       "\n",
       "       [[ 5,  9, 11, 18, 14,  6, 16],\n",
       "        [ 2, 19,  7,  6, 20,  2, 12],\n",
       "        [13,  5, 11,  7, 18,  7, 13],\n",
       "        [20,  9,  5, 18,  5, 15, 12]]])"
      ]
     },
     "execution_count": 22,
     "metadata": {},
     "output_type": "execute_result"
    }
   ],
   "source": [
    "tridimensional = np.random.randint(1, 21, (2, 4, 7))\n",
    "tridimensional"
   ]
  },
  {
   "cell_type": "markdown",
   "metadata": {},
   "source": [
    "\n",
    "11. Transponed el array para que tenga 4 matrices, 7 filas y 2 columnas"
   ]
  },
  {
   "cell_type": "code",
   "execution_count": 16,
   "metadata": {},
   "outputs": [
    {
     "data": {
      "text/plain": [
       "array([[[ 9, 19],\n",
       "        [17, 11],\n",
       "        [10, 15],\n",
       "        [18, 14],\n",
       "        [16, 17],\n",
       "        [12, 15],\n",
       "        [ 4, 10]],\n",
       "\n",
       "       [[13,  6],\n",
       "        [ 1,  9],\n",
       "        [13, 10],\n",
       "        [ 1,  3],\n",
       "        [ 3,  7],\n",
       "        [ 7,  8],\n",
       "        [15, 15]],\n",
       "\n",
       "       [[10,  5],\n",
       "        [18,  9],\n",
       "        [11, 16],\n",
       "        [18, 19],\n",
       "        [ 1,  1],\n",
       "        [10,  4],\n",
       "        [11, 10]],\n",
       "\n",
       "       [[17,  8],\n",
       "        [14,  1],\n",
       "        [16,  9],\n",
       "        [13,  9],\n",
       "        [ 6,  2],\n",
       "        [17, 13],\n",
       "        [19,  8]]])"
      ]
     },
     "execution_count": 16,
     "metadata": {},
     "output_type": "execute_result"
    }
   ],
   "source": [
    "tri_transpose = np.transpose(tridimensional, (1, 2, 0))\n",
    "tri_transpose"
   ]
  }
 ],
 "metadata": {
  "kernelspec": {
   "display_name": "Python 3",
   "language": "python",
   "name": "python3"
  },
  "language_info": {
   "codemirror_mode": {
    "name": "ipython",
    "version": 3
   },
   "file_extension": ".py",
   "mimetype": "text/x-python",
   "name": "python",
   "nbconvert_exporter": "python",
   "pygments_lexer": "ipython3",
   "version": "3.9.7"
  },
  "orig_nbformat": 4
 },
 "nbformat": 4,
 "nbformat_minor": 2
}
