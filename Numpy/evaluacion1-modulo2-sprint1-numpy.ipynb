{
 "cells": [
  {
   "attachments": {},
   "cell_type": "markdown",
   "metadata": {},
   "source": [
    "# Evaluación de contenidos 1 Módulo 2\n",
    "\n",
    "# Ejercicios de NumPy"
   ]
  },
  {
   "attachments": {},
   "cell_type": "markdown",
   "metadata": {},
   "source": [
    "1. Importa la librería de NumPy."
   ]
  },
  {
   "cell_type": "code",
   "execution_count": 1,
   "metadata": {},
   "outputs": [],
   "source": [
    "import pandas as pd\n",
    "import numpy as np\n",
    "import os"
   ]
  },
  {
   "attachments": {},
   "cell_type": "markdown",
   "metadata": {},
   "source": [
    "\n",
    "2. Crea un array de 1 dimension y 10 elementos."
   ]
  },
  {
   "cell_type": "code",
   "execution_count": 68,
   "metadata": {},
   "outputs": [
    {
     "data": {
      "text/plain": [
       "array([ 0, 31, 12,  6, 48, 35, 28, 45, 37, 26])"
      ]
     },
     "execution_count": 68,
     "metadata": {},
     "output_type": "execute_result"
    }
   ],
   "source": [
    "array_int = np.random.randint(50, size=10)\n",
    "\n",
    "array_int"
   ]
  },
  {
   "attachments": {},
   "cell_type": "markdown",
   "metadata": {},
   "source": [
    "3. Reemplaza todos los números impares por el valor \"impar\" y los pares por \"par\". Para hacer esto os tendréis que crear un array nuevo donde vayáis añadiendo los valores nuevos."
   ]
  },
  {
   "cell_type": "code",
   "execution_count": 123,
   "metadata": {},
   "outputs": [
    {
     "name": "stdout",
     "output_type": "stream",
     "text": [
      "['par' 'impar' 'par' 'par' 'par' 'impar' 'par' 'impar' 'impar' 'par']\n"
     ]
    }
   ],
   "source": [
    "array_vacio = np.empty(10, dtype=object)\n",
    "\n",
    "for i in range(10):\n",
    "    \n",
    "    if array_int[i] % 2 == 0:\n",
    "        array_vacio[i] = 'par'\n",
    "    else:\n",
    "        array_vacio[i] = 'impar'\n",
    "\n",
    "print(array_vacio)"
   ]
  },
  {
   "attachments": {},
   "cell_type": "markdown",
   "metadata": {},
   "source": [
    "4. Cambiad la forma del array del ejercicio 3 a un array de 2 filas y 5 columnas."
   ]
  },
  {
   "cell_type": "code",
   "execution_count": 78,
   "metadata": {},
   "outputs": [
    {
     "data": {
      "text/plain": [
       "array([[ 0, 31, 12,  6, 48],\n",
       "       [35, 28, 45, 37, 26]])"
      ]
     },
     "execution_count": 78,
     "metadata": {},
     "output_type": "execute_result"
    }
   ],
   "source": [
    "array_cambiado = np.reshape(array_int, (2, 5))\n",
    "\n",
    "array_cambiado"
   ]
  },
  {
   "attachments": {},
   "cell_type": "markdown",
   "metadata": {},
   "source": [
    "5. Extrae los elementos comunes de los siguientes arrays\n",
    "\n",
    "array1 = np.array([1,2,3,2,3,4,3,4,5,6])\n",
    "\n",
    "array2 = np.array([7,2,10,2,7,4,9,4,9,8])"
   ]
  },
  {
   "cell_type": "code",
   "execution_count": 80,
   "metadata": {},
   "outputs": [],
   "source": [
    "array1 = np.array([1,2,3,2,3,4,3,4,5,6])\n",
    "\n",
    "array2 = np.array([7,2,10,2,7,4,9,4,9,8])"
   ]
  },
  {
   "cell_type": "code",
   "execution_count": 82,
   "metadata": {},
   "outputs": [
    {
     "data": {
      "text/plain": [
       "array([2, 4])"
      ]
     },
     "execution_count": 82,
     "metadata": {},
     "output_type": "execute_result"
    }
   ],
   "source": [
    "array_comunes = np.intersect1d(array1, array2)\n",
    "\n",
    "array_comunes"
   ]
  },
  {
   "attachments": {},
   "cell_type": "markdown",
   "metadata": {},
   "source": [
    "6. Extraed los elementos que están en el array1 pero no en el array2."
   ]
  },
  {
   "cell_type": "code",
   "execution_count": 85,
   "metadata": {},
   "outputs": [
    {
     "data": {
      "text/plain": [
       "array([1, 3, 5, 6])"
      ]
     },
     "execution_count": 85,
     "metadata": {},
     "output_type": "execute_result"
    }
   ],
   "source": [
    "array_diferentes = np.setdiff1d(array1, array2)\n",
    "\n",
    "array_diferentes"
   ]
  },
  {
   "attachments": {},
   "cell_type": "markdown",
   "metadata": {},
   "source": [
    "\n",
    "7. Extraed las posiciones donde tengamos elementos que sean iguales."
   ]
  },
  {
   "cell_type": "code",
   "execution_count": 104,
   "metadata": {},
   "outputs": [
    {
     "data": {
      "text/plain": [
       "(array([2, 4]), array([1, 5]), array([1, 5]))"
      ]
     },
     "execution_count": 104,
     "metadata": {},
     "output_type": "execute_result"
    }
   ],
   "source": [
    "array_posicion = np.intersect1d(array1, array2, return_indices= True)\n",
    "\n",
    "array_posicion"
   ]
  },
  {
   "attachments": {},
   "cell_type": "markdown",
   "metadata": {},
   "source": [
    "8. Cread un array de 3 filas y 5 columnas, con números enteros del 0 al 50. Una vez creado, extrae los valores que sean menores que 10 y mayores que 40."
   ]
  },
  {
   "cell_type": "code",
   "execution_count": 106,
   "metadata": {},
   "outputs": [
    {
     "data": {
      "text/plain": [
       "array([[12, 19, 49, 11, 29],\n",
       "       [32, 11, 18, 50, 30],\n",
       "       [38, 15, 20,  5,  6]])"
      ]
     },
     "execution_count": 106,
     "metadata": {},
     "output_type": "execute_result"
    }
   ],
   "source": [
    "array_entero = np.random.randint(0, 51, (3,5))\n",
    "\n",
    "array_entero"
   ]
  },
  {
   "cell_type": "code",
   "execution_count": 107,
   "metadata": {},
   "outputs": [
    {
     "name": "stdout",
     "output_type": "stream",
     "text": [
      "Los valores menores de 10 son [5 6]\n",
      "Los valores mayores de 40 son [49 50]\n"
     ]
    }
   ],
   "source": [
    "# indexacion\n",
    "\n",
    "pequeños = array_entero[array_entero < 10]\n",
    "grandes = array_entero[array_entero > 40]\n",
    "\n",
    "print(f'Los valores menores de 10 son {pequeños}')\n",
    "\n",
    "print(f'Los valores mayores de 40 son {grandes}')"
   ]
  },
  {
   "attachments": {},
   "cell_type": "markdown",
   "metadata": {},
   "source": [
    "9. Cread un array de 5x3 con números decimales aleatorios entre el 5 y el 10."
   ]
  },
  {
   "cell_type": "code",
   "execution_count": 115,
   "metadata": {},
   "outputs": [
    {
     "data": {
      "text/plain": [
       "array([[8.43107695, 7.75440603, 5.83904186],\n",
       "       [7.11666114, 6.60571175, 6.70766104],\n",
       "       [7.32855777, 8.78246062, 7.48097737],\n",
       "       [7.14025632, 8.31969417, 7.75269825],\n",
       "       [7.59191896, 9.43199071, 8.17497276]])"
      ]
     },
     "execution_count": 115,
     "metadata": {},
     "output_type": "execute_result"
    }
   ],
   "source": [
    "array_float = np.random.uniform(size =(5, 3,), low= 5, high = 10)\n",
    "\n",
    "array_float"
   ]
  },
  {
   "cell_type": "markdown",
   "metadata": {},
   "source": [
    "10. Crea un array de tres dimensiones de 2x4x7 con números entre el 1 y el 20"
   ]
  },
  {
   "cell_type": "code",
   "execution_count": 118,
   "metadata": {},
   "outputs": [
    {
     "data": {
      "text/plain": [
       "array([[[ 6, 16, 17,  6,  9, 11, 19],\n",
       "        [ 7, 13,  8,  6,  6, 16, 15],\n",
       "        [ 4,  8, 18,  9, 13,  5,  8],\n",
       "        [13, 11, 16, 17, 10, 12,  3]],\n",
       "\n",
       "       [[11,  3,  4, 19, 20,  3,  2],\n",
       "        [ 9,  7, 12, 13,  3,  2, 18],\n",
       "        [ 2, 16, 15, 10,  8,  9, 11],\n",
       "        [17,  1,  9,  9,  5,  1, 15]]])"
      ]
     },
     "execution_count": 118,
     "metadata": {},
     "output_type": "execute_result"
    }
   ],
   "source": [
    "tridimensional = np.random.randint(1, 21, (2, 4, 7))\n",
    "tridimensional"
   ]
  },
  {
   "cell_type": "markdown",
   "metadata": {},
   "source": [
    "\n",
    "11. Transponed el array para que tenga 4 matrices, 7 filas y 2 columnas"
   ]
  },
  {
   "cell_type": "code",
   "execution_count": 121,
   "metadata": {},
   "outputs": [
    {
     "data": {
      "text/plain": [
       "array([[[ 6, 11],\n",
       "        [16,  3],\n",
       "        [17,  4],\n",
       "        [ 6, 19],\n",
       "        [ 9, 20],\n",
       "        [11,  3],\n",
       "        [19,  2]],\n",
       "\n",
       "       [[ 7,  9],\n",
       "        [13,  7],\n",
       "        [ 8, 12],\n",
       "        [ 6, 13],\n",
       "        [ 6,  3],\n",
       "        [16,  2],\n",
       "        [15, 18]],\n",
       "\n",
       "       [[ 4,  2],\n",
       "        [ 8, 16],\n",
       "        [18, 15],\n",
       "        [ 9, 10],\n",
       "        [13,  8],\n",
       "        [ 5,  9],\n",
       "        [ 8, 11]],\n",
       "\n",
       "       [[13, 17],\n",
       "        [11,  1],\n",
       "        [16,  9],\n",
       "        [17,  9],\n",
       "        [10,  5],\n",
       "        [12,  1],\n",
       "        [ 3, 15]]])"
      ]
     },
     "execution_count": 121,
     "metadata": {},
     "output_type": "execute_result"
    }
   ],
   "source": [
    "tri_transpose = np.transpose(tridimensional, (1, 2, 0))\n",
    "tri_transpose"
   ]
  }
 ],
 "metadata": {
  "kernelspec": {
   "display_name": "Python 3",
   "language": "python",
   "name": "python3"
  },
  "language_info": {
   "codemirror_mode": {
    "name": "ipython",
    "version": 3
   },
   "file_extension": ".py",
   "mimetype": "text/x-python",
   "name": "python",
   "nbconvert_exporter": "python",
   "pygments_lexer": "ipython3",
   "version": "3.9.7"
  },
  "orig_nbformat": 4
 },
 "nbformat": 4,
 "nbformat_minor": 2
}
